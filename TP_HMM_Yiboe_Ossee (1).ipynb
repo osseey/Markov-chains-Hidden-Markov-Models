{
  "nbformat": 4,
  "nbformat_minor": 0,
  "metadata": {
    "colab": {
      "provenance": []
    },
    "kernelspec": {
      "name": "python3",
      "display_name": "Python 3"
    },
    "language_info": {
      "name": "python"
    }
  },
  "cells": [
    {
      "cell_type": "markdown",
      "source": [
        "# **Chaînes de Markov-HMMs**\n",
        "## BGDIA704 -Machine Learning Avancé\n",
        "## **Yiboe Ossee**\n",
        "\n",
        "**Mars 2023**\n",
        "\n",
        "#### Laurence Likforman-Sulem, Morgan Buisson, David Perera\n",
        "#### TELECOM Paris\n",
        "Ce TP se déroule en deux parties. La première partie concerne les chaînes de Markov et est à finir absolument. \n",
        "Les plus rapides d’entre vous pourront aborder la deuxième partie qui traite\n",
        "des HMMs. \n",
        "Les ressources (matrices de transition, modèles HMM) sont sur ecampus et sur :\n",
        "\n",
        "Partie I : http://perso.telecom-paristech.fr/~lauli/TP_Chaine_Markov/\n",
        "\n",
        "Partie II : http://perso.telecom-paristech.fr/~lauli/TPHMM_MDI343/"
      ],
      "metadata": {
        "id": "Wz-nhh_FRb6_"
      }
    },
    {
      "cell_type": "markdown",
      "source": [
        "## **I.1 Fonctions dont vous pouvez avoir besoin**\n",
        "\n",
        "**cumsum** : fonction de répartition : somme cumulative des termes du vecteur p\n",
        "\n",
        "import numpy as np\n",
        "\n",
        "np.cumsum(p)\n",
        "\n",
        "**random** : génère un nombre aléatoire entre [0 1] selon une loi uniforme.\n",
        "\n",
        "import numpy as np\n",
        "\n",
        "np.random.random()\n",
        "\n",
        "**load** : chargement d’un fichier\n",
        "\n",
        "filename_A= 'bigramenglish.txt'\n",
        "\n",
        "np.loadtxt(filename_A)\n",
        "\n",
        "**Création du dictionnaire clé-valeur associant états et caractères :**\n",
        "\n",
        "dic={'1' : ' ', '2' : 'a', '3' : 'b', '4': 'c', '5' : 'd', '6' : 'e', '7': 'f', '8' : 'g', '9' : 'h', '10': 'i', '11': 'j','12' : 'k', '13' : 'l', '14': 'm', '15' : 'n', '16' : 'o', '17': 'p', '18' :'q', '19' : 'r' , '20': 's', '21' : 't', '22': 'u', '23': 'v', '24' : 'w', '25' : 'x' , '26': 'y', '27' : 'z', '28' : ' ' }\n",
        "\n",
        "**Inverser le dictionnaire (les valeurs deviennent les clés et réciproquement)**\n",
        "\n",
        "dic_inv = {v: k for k, v in dic.items()}"
      ],
      "metadata": {
        "id": "qbiPK0dNRvSA"
      }
    },
    {
      "cell_type": "markdown",
      "source": [
        "## **I.2 Chaîne de Markov**\n",
        "On veut générer des mots dans une langue donnée en modélisant la formation de ces mots par une chaîne de Markov. Les 28 états du modèle correspondent aux 26 lettres de l’alphabet auxquelles et on ajoute un état ‘espace initial’ (état 1) et un état ‘espace final’ (état 28) qui sert à terminer les mots.\n",
        "\n",
        "La correspondance entre la valeur numérique d’un état et un caractère est la suivante : l’état 1 correspond à un espace (avant le début d’un mot) et l’état 28 à celui d’un espace en fin de mot. \n",
        "\n",
        "Les états 2 à 27 correspondent aux caractères de a à z. On pourra utiliser une structure de dictionnaire en python pour faire cette correspondance.\n",
        "\n",
        "On utilisera une chaîne de Markov ergodique entre les 26 états correspondants aux lettres de l’alphabet."
      ],
      "metadata": {
        "id": "2rU8PEFNSB2M"
      }
    },
    {
      "cell_type": "code",
      "source": [
        "from google.colab import drive\n",
        "drive.mount('/content/drive')\n",
        "\n",
        "ROOT_PATH = '/content/drive/MyDrive/HMM/'\n"
      ],
      "metadata": {
        "colab": {
          "base_uri": "https://localhost:8080/"
        },
        "id": "QRN6-CxYZ_8T",
        "outputId": "241b3531-92c0-46d8-eb9f-9666de857fe5"
      },
      "execution_count": null,
      "outputs": [
        {
          "output_type": "stream",
          "name": "stdout",
          "text": [
            "Mounted at /content/drive\n"
          ]
        }
      ]
    },
    {
      "cell_type": "code",
      "source": [
        "# Imports\n",
        "\n",
        "import numpy as np\n",
        "import pandas as pd \n",
        "import matplotlib.pyplot as plt"
      ],
      "metadata": {
        "id": "CXbrkF4hU5PO"
      },
      "execution_count": null,
      "outputs": []
    },
    {
      "cell_type": "code",
      "source": [
        "# Dictionnaire en python pour faire cette correspondance\n",
        "\n",
        "dico={'1' : ' ', '2' : 'a', '3' : 'b', '4': 'c', '5' : 'd', '6' : 'e', '7': 'f', '8' : 'g', '9' : 'h',\\\n",
        "      '10': 'i', '11': 'j','12' : 'k', '13' : 'l', '14': 'm', '15' : 'n', '16' : 'o', '17': 'p', '18' :'q',\\\n",
        "      '19' : 'r' , '20': 's', '21' : 't', '22': 'u', '23': 'v', '24' : 'w', '25' : 'x' , '26': 'y', '27' : 'z', '28' : ' ' }\n",
        "\n",
        "# Inverser le dictionnaire (les valeurs deviennent les clés et réciproquement)\n",
        "\n",
        "dico_inv = {v: k for k, v in dico.items()}\n",
        "dico_inv"
      ],
      "metadata": {
        "colab": {
          "base_uri": "https://localhost:8080/"
        },
        "id": "bvqIv3d3RuSe",
        "outputId": "496e61da-9706-4be9-9a0e-b2a35cbc7750"
      },
      "execution_count": null,
      "outputs": [
        {
          "output_type": "execute_result",
          "data": {
            "text/plain": [
              "{' ': '28',\n",
              " 'a': '2',\n",
              " 'b': '3',\n",
              " 'c': '4',\n",
              " 'd': '5',\n",
              " 'e': '6',\n",
              " 'f': '7',\n",
              " 'g': '8',\n",
              " 'h': '9',\n",
              " 'i': '10',\n",
              " 'j': '11',\n",
              " 'k': '12',\n",
              " 'l': '13',\n",
              " 'm': '14',\n",
              " 'n': '15',\n",
              " 'o': '16',\n",
              " 'p': '17',\n",
              " 'q': '18',\n",
              " 'r': '19',\n",
              " 's': '20',\n",
              " 't': '21',\n",
              " 'u': '22',\n",
              " 'v': '23',\n",
              " 'w': '24',\n",
              " 'x': '25',\n",
              " 'y': '26',\n",
              " 'z': '27'}"
            ]
          },
          "metadata": {},
          "execution_count": 3
        }
      ]
    },
    {
      "cell_type": "markdown",
      "source": [
        "### **I.2.a Matrice de transitions**\n",
        "\n",
        "'bigramenglish.txt' contient la matrice des transitions pour l’anglais (bigrams) entre deux symboles (caractères ou espaces). \n",
        "\n",
        "Le terme générique (i,j) de la matrice de transition correspond à la probabilité de transiter vers l’état j à partir de l’état i.\n",
        "\n",
        "A quelles probabilités correspond la première ligne de la matrice de transition ? et celles de la dernière colonne ?\n",
        "\n",
        "Pour chaque lettre de l’alphabet, indiquer la transition la plus fréquente depuis cette lettre. "
      ],
      "metadata": {
        "id": "X32VYbqeTyxm"
      }
    },
    {
      "cell_type": "markdown",
      "source": [
        "#### Réponses :\n",
        "\n",
        "- La première ligne de la matrice de transition correspond aux probabilités de passer de l'état initial (espace) aux autres états. La somme de toutes les probabilités de la première ligne doit être égale à 1, car il est certain qu'un symbole doit être généré après l'espace initial.\n",
        "\n",
        "- La dernière colonne de la matrice de transition correspond aux probabilités de passer de chaque état à l'état final (espace). La somme de toutes les probabilités de la dernière colonne doit également être égale à 1, car il est certain qu'un mot doit se terminer par un espace.\n",
        "\n",
        "Pour chaque lettre de l'alphabet, la transition la plus fréquente depuis cette lettre est celle qui a la plus grande probabilité de transition à partir de cet état dans la matrice de transition. Il suffit donc de chercher la valeur maximale dans chaque ligne correspondant à chaque lettre. \n",
        "\n",
        "Par exemple, pour la lettre 'a', nous recherchons la valeur maximale dans la deuxième ligne de la matrice de transition (car l'état 2 correspond à la lettre 'a')."
      ],
      "metadata": {
        "id": "YZJewexOUDEI"
      }
    },
    {
      "cell_type": "code",
      "execution_count": null,
      "metadata": {
        "colab": {
          "base_uri": "https://localhost:8080/"
        },
        "id": "qxIayrSkQDLT",
        "outputId": "840b8fc6-cd30-41ac-9712-2c114bcae470"
      },
      "outputs": [
        {
          "output_type": "stream",
          "name": "stdout",
          "text": [
            "Transitions les plus fréquentes pour chaque lettre de l'alphabet sont :\n",
            "a -> n\n",
            "b -> e\n",
            "c -> o\n",
            "d ->  \n",
            "e ->  \n",
            "f ->  \n",
            "g ->  \n",
            "h -> e\n",
            "i -> n\n",
            "j -> o\n",
            "k ->  \n",
            "l -> e\n",
            "m -> e\n",
            "n ->  \n",
            "o -> n\n",
            "p -> e\n",
            "q -> u\n",
            "r -> e\n",
            "s ->  \n",
            "t -> h\n",
            "u -> r\n",
            "v -> e\n",
            "w -> a\n",
            "x -> t\n",
            "y ->  \n",
            "z -> e\n"
          ]
        }
      ],
      "source": [
        "# indiquer la transition la plus fréquente depuis cette lettre.\n",
        "\n",
        "# load : chargement d’un fichier\n",
        "\n",
        "bigramenglish= 'bigramenglish.txt'\n",
        "\n",
        "beng = np.loadtxt(ROOT_PATH + bigramenglish)\n",
        "\n",
        "most_frequent_transitions = {}\n",
        "\n",
        "# Parcours de chaque lettre de l'alphabet\n",
        "for i in range(1, 27):\n",
        "    letter = dico[str(i)]\n",
        "    # Recherche de la transition la plus fréquente pour cette lettre\n",
        "    #max_prob = np.max(beng[i, :])\n",
        "    max_index = np.argmax(beng[i, :]) + 1\n",
        "    most_frequent_transitions [dico[str(i + 1)]] = max_index\n",
        "    # Affichage des résultats\n",
        "    #print(f\"La transition la plus fréquente depuis la lettre '{letter}' est '{max_letter}' avec une probabilité de {max_prob:.4f}.\")\n",
        "print(\"Transitions les plus fréquentes pour chaque lettre de l'alphabet sont :\")\n",
        "for letter, transition in most_frequent_transitions.items():\n",
        "    print(\"{} -> {}\".format(letter, dico[str(transition)]))"
      ]
    },
    {
      "cell_type": "code",
      "source": [
        "beng.shape"
      ],
      "metadata": {
        "colab": {
          "base_uri": "https://localhost:8080/"
        },
        "id": "_8Gw158GWLYO",
        "outputId": "57600fc5-2285-4a0f-cce9-c19941b60059"
      },
      "execution_count": null,
      "outputs": [
        {
          "output_type": "execute_result",
          "data": {
            "text/plain": [
              "(28, 28)"
            ]
          },
          "metadata": {},
          "execution_count": 5
        }
      ]
    },
    {
      "cell_type": "markdown",
      "source": [
        "### **I.2.b Générer un mot**\n",
        "\n",
        "On veut générer un mot à partir de l’état initial 1 (espace de début de mot).\n",
        "Ecrire une fonction etat_suivant qui génère un état (à t+1) à partir de l’état courant (à t) et à l’aide de la matrice de transitions et de la fonction de répartition.\n",
        "\n",
        "Afficher sur un graphique la fonction de répartition pour une ligne de la matrice de transition et expliquer son rôle pour la génération de l’état à t+1.\n",
        "\n",
        "Utiliser cette fonction pour écrire la fonction genere_state_seq qui génère une séquence d’états jusqu’à aboutir à l’état final (28). \n",
        "\n",
        "Ecrire une fonction display_seq qui transforme une séquence d’états en séquence de caractères, à l’aide d’un dictionnaire. \n",
        "\n",
        "Utiliser ces fonctions pour générer des mots et donner des exemples de mots générés."
      ],
      "metadata": {
        "id": "h3DlrDnhVtiI"
      }
    },
    {
      "cell_type": "code",
      "source": [
        "# Fonction etat_suivant()\n",
        "\n",
        "def etat_suivant(current_state, transition_matrix):\n",
        "    \"\"\"Génère l'état suivant à partir de l'état courant et de la matrice de transitions\"\"\"\n",
        "    cum_probs = np.cumsum(transition_matrix[current_state-1])\n",
        "    rand_num = np.random.random()\n",
        "    #next_state = np.searchsorted(cum_probs, r)\n",
        "    etat_suivant = np.argmax(cum_probs >= rand_num) + 1  # find first index of cumulative probability >= random number\n",
        "    return etat_suivant\n",
        "\n",
        "# Afficher sur un graphique la fonction de répartition pour une ligne de la matrice de transition\n",
        "def repartition (row, beng):\n",
        "  '''Afficher sur un graphique la fonction de répartition pour une ligne de la matrice de transition'''\n",
        "   # exemple : transition depuis l'état correspondant à 'a'\n",
        "  cum_probs = np.cumsum(beng[row-1,:])\n",
        "  etats = range(len(beng[row-1,:]))\n",
        "  plt.step(etats, cum_probs)\n",
        "\n",
        "  plt.title(f\"Fonction de répartition pour la transition depuis {dico[str(row+1)]}\")\n",
        "  plt.xlabel(\"État suivant\")\n",
        "  plt.ylabel(\"Probabilité cumulée\")\n",
        "  plt.show()\n",
        "\n",
        "row= 2\n",
        "repartition (row, beng)"
      ],
      "metadata": {
        "colab": {
          "base_uri": "https://localhost:8080/",
          "height": 295
        },
        "id": "QBMOhDJlV5NE",
        "outputId": "d9296663-b99c-4364-933f-5f9a980f278b"
      },
      "execution_count": null,
      "outputs": [
        {
          "output_type": "display_data",
          "data": {
            "text/plain": [
              "<Figure size 432x288 with 1 Axes>"
            ],
            "image/png": "[encoded data removed]"
          },
          "metadata": {
            "needs_background": "light"
          }
        }
      ]
    },
    {
      "cell_type": "markdown",
      "source": [
        "#### Réponse à expliquer son rôle pour la génération de l’état à t+1.\n",
        "\n",
        "- La fonction de répartition donne la probabilité cumulée d'aboutir à chaque état suivant à partir de l'état courant. Elle est utilisée pour générer l'état suivant aléatoirement, en choisissant un nombre aléatoire entre 0 et 1 et en le comparant à chaque probabilité cumulée.\n",
        "\n"
      ],
      "metadata": {
        "id": "tEPkNxk4XGf5"
      }
    },
    {
      "cell_type": "code",
      "source": [
        "# Fonction genere_state_seq()\n",
        "\n",
        "def genere_state_seq(transition_matrix):\n",
        "    \"\"\"Génère une séquence d'états jusqu'à aboutir à l'état final\n",
        "    \n",
        "    Args:\n",
        "    - transition_matrix : np.ndarray, matrice de transition\n",
        "    \n",
        "    Returns:\n",
        "    - list, séquence d'états\n",
        "    \"\"\"\n",
        "    state_seq = [1] # état initial\n",
        "    current_state = 1\n",
        "    while state_seq[-1] !=len(transition_matrix):\n",
        "        current_state = etat_suivant(current_state, transition_matrix)\n",
        "        state_seq.append(current_state)\n",
        "    return state_seq\n",
        "\n",
        "# Fonction display_seq()\n",
        "\n",
        "def display_seq(seq, dico):\n",
        "  \"\"\"Transforme une séquence d’états en séquence de caractères, à l’aide d’un dictionnaire\n",
        "  Args:\n",
        "    - seq : list, séquence d'états\n",
        "    - dico : dict, dictionnaire clé-valeur associant états et caractères\n",
        "    \n",
        "    Returns:\n",
        "    - str, séquence de caractères\n",
        "    \"\"\"\n",
        "  return ''.join([dico[str(s)] for s in seq])\n"
      ],
      "metadata": {
        "id": "8oGaZWWZXRTQ"
      },
      "execution_count": null,
      "outputs": []
    },
    {
      "cell_type": "code",
      "source": [
        "seq = genere_state_seq(beng)\n",
        "print(\"La sequence générée est :\", seq, \"\\n\")\n",
        "\n",
        "mot = display_seq(seq, dico)\n",
        "print(\"Le mot généré est :\", mot, \"\\n\")\n"
      ],
      "metadata": {
        "colab": {
          "base_uri": "https://localhost:8080/"
        },
        "id": "YONiqaMjYpK6",
        "outputId": "8366dc04-df7d-4cd4-eba7-7aa77298fd6b"
      },
      "execution_count": null,
      "outputs": [
        {
          "output_type": "stream",
          "name": "stdout",
          "text": [
            "La sequence générée est : [1, 21, 6, 28] \n",
            "\n",
            "Le mot généré est :  te  \n",
            "\n"
          ]
        }
      ]
    },
    {
      "cell_type": "markdown",
      "source": [
        "#### Exemples de mot générés: \n",
        "\n",
        "- fonds\n",
        "- ct\n",
        "- tha\n",
        "- iendowilivigons"
      ],
      "metadata": {
        "id": "3L_MTP_GZtv4"
      }
    },
    {
      "cell_type": "markdown",
      "source": [
        "### **I.2.c Générer une phrase**\n",
        "\n",
        "On veut générer une suite de mots (phrase). Créer un état final de phrase (état 29, correspondant au caractère .) dont la probabilité de transition vers cet état depuis un état final de mot est 0.1. \n",
        "\n",
        "Ecrire une fonction modifie_mat_dic qui modifie la matrice de transition\n",
        "et le dictionnaire en conséquence. \n",
        "\n",
        "Donner des exemples de phrases générées."
      ],
      "metadata": {
        "id": "Q2zVYcD6Z40p"
      }
    },
    {
      "cell_type": "code",
      "source": [
        "# Fonction modifie_mat_dic()\n",
        "\n",
        "def modifie_mat_dic(matrice_transition, dico, dico_inv):\n",
        "    \"\"\"\n",
        "    Modifie la matrice de transition et le dictionnaire pour ajouter l'état final de phrase.\n",
        "    \n",
        "    Args:\n",
        "    - matrice_transition : np.ndarray, matrice de transition\n",
        "    - dictionnaire : dict, dictionnaire clé-valeur associant états et caractères\n",
        "    \n",
        "    Returns:\n",
        "    - np.ndarray, matrice de transition modifiée\n",
        "    - dict, dictionnaire modifié\n",
        "    \"\"\"\n",
        "\n",
        "    # Augmentation de la taille de la matrice de transition pour inclure l'état 29\n",
        "    matrice_transition = np.insert(matrice_transition, 27, np.zeros(28), axis=0)\n",
        "    matrice_transition = np.insert(matrice_transition, 28, np.zeros(29), axis=1)\n",
        "    \n",
        "    # Mise à jour de la matrice de transition\n",
        "    matrice_transition[27, 28] = 0.1\n",
        "    matrice_transition[27, 0] = 0.9\n",
        "    matrice_transition[28, 28] = 1\n",
        "    matrice_transition[27, 27] = 0\n",
        "\n",
        "    # Ajout de l'état final de phrase\n",
        "    dico2 = dico.copy()\n",
        "    dico2['29'] = '.'\n",
        "    dico_inv2 = {v: k for k, v in dico2.items()}\n",
        "\n",
        "    return matrice_transition, dico2, dico_inv2\n"
      ],
      "metadata": {
        "id": "Dw7E_trYa38s"
      },
      "execution_count": null,
      "outputs": []
    },
    {
      "cell_type": "code",
      "source": [
        "beng2, dico2, dico_inv2 = modifie_mat_dic(beng, dico, dico_inv)"
      ],
      "metadata": {
        "id": "hyfQv3gVdP4P"
      },
      "execution_count": null,
      "outputs": []
    },
    {
      "cell_type": "code",
      "source": [
        "print(beng2.shape)\n",
        "print(dico2)\n",
        "print(dico_inv2)"
      ],
      "metadata": {
        "colab": {
          "base_uri": "https://localhost:8080/"
        },
        "id": "TurhEWA3WCsS",
        "outputId": "4e13f482-98e2-4883-d942-d4ce05848736"
      },
      "execution_count": null,
      "outputs": [
        {
          "output_type": "stream",
          "name": "stdout",
          "text": [
            "(29, 29)\n",
            "{'1': ' ', '2': 'a', '3': 'b', '4': 'c', '5': 'd', '6': 'e', '7': 'f', '8': 'g', '9': 'h', '10': 'i', '11': 'j', '12': 'k', '13': 'l', '14': 'm', '15': 'n', '16': 'o', '17': 'p', '18': 'q', '19': 'r', '20': 's', '21': 't', '22': 'u', '23': 'v', '24': 'w', '25': 'x', '26': 'y', '27': 'z', '28': ' ', '29': '.'}\n",
            "{' ': '28', 'a': '2', 'b': '3', 'c': '4', 'd': '5', 'e': '6', 'f': '7', 'g': '8', 'h': '9', 'i': '10', 'j': '11', 'k': '12', 'l': '13', 'm': '14', 'n': '15', 'o': '16', 'p': '17', 'q': '18', 'r': '19', 's': '20', 't': '21', 'u': '22', 'v': '23', 'w': '24', 'x': '25', 'y': '26', 'z': '27', '.': '29'}\n"
          ]
        }
      ]
    },
    {
      "cell_type": "code",
      "source": [
        "def genere_phrase(matrice_transition, dictionnaire):\n",
        "    \"\"\"\n",
        "    Génère une phrase à partir de la matrice de transition et du dictionnaire donnés en entrée.\n",
        "    La phrase se termine par le caractère \".\".\n",
        "    \"\"\"\n",
        "    phrase = []\n",
        "    seq_etats = genere_state_seq(matrice_transition)\n",
        "    phrase.append(display_seq(seq_etats,dictionnaire))\n",
        "    phrase = \"\".join([ p for p in phrase])\n",
        "    return phrase"
      ],
      "metadata": {
        "id": "YUdUlyROEeS7"
      },
      "execution_count": null,
      "outputs": []
    },
    {
      "cell_type": "code",
      "source": [
        "genere_phrase(beng2, dico2)"
      ],
      "metadata": {
        "colab": {
          "base_uri": "https://localhost:8080/",
          "height": 35
        },
        "id": "xYcuNJeeiZfz",
        "outputId": "8204aac8-7fa3-46d0-905c-220361e0f64a"
      },
      "execution_count": null,
      "outputs": [
        {
          "output_type": "execute_result",
          "data": {
            "text/plain": [
              "' in  thededar  w  d  l  propthit  gldilldee .'"
            ],
            "application/vnd.google.colaboratory.intrinsic+json": {
              "type": "string"
            }
          },
          "metadata": {},
          "execution_count": 13
        }
      ]
    },
    {
      "cell_type": "markdown",
      "source": [
        "## **I.3. Reconnaissance de la langue**\n",
        "\n",
        "Charger la matrice des transitions entre caractères pour le français. \n",
        "\n",
        "Ecrire une fonction calc_vraisemblance qui calcule la vraisemblance du modèle français pour une phrase donnée en multipliant les probabilités de transition. \n",
        "\n",
        "Pour tenir compte de toutes les transitions (notamment celles entre espaces de fin et de début de mots et vers la fin de phrase) on pourra transformer une séquence « mot1 mot2.» par la séquence « -mot1+-mot2+.», les signes - , +\n",
        "et . représentant l’état initial de mot, l’état final de mot et l’état final de phrase, respectivement.\n",
        "\n",
        "Calculer la vraisemblance des modèles français et anglais pour la phrase « to be or not to be ».\n",
        "\n",
        "De même calculer la vraisemblance des modèles français et anglais pour la phrase « etre ou ne pas etre »."
      ],
      "metadata": {
        "id": "0JeUA-djfv7p"
      }
    },
    {
      "cell_type": "code",
      "source": [
        "# load : chargement d’un fichier\n",
        "\n",
        "bigramfrancais= 'bigramfrancais.txt'\n",
        "\n",
        "benf = np.loadtxt(ROOT_PATH + bigramfrancais)"
      ],
      "metadata": {
        "id": "7yVdjAYMf_su"
      },
      "execution_count": null,
      "outputs": []
    },
    {
      "cell_type": "code",
      "source": [
        "# Modifier la fonction de mise à jour des transitions et du vocabulaire\n",
        "\n",
        "def modifie_mat_dic_2(benf, dico):\n",
        "    # Ajout de l'état final de phrase\n",
        "    benf2 = np.zeros((29, 29))\n",
        "    benf2[:28, :28] = benf\n",
        "    benf2[27, 28] = 0.1\n",
        "    benf2[27, 0] = 0.9\n",
        "    benf2[28, 28] = 1\n",
        "    benf2[27, 27] = 0\n",
        "    \n",
        "    # Modification du dictionnaire\n",
        "    dico_fr= dico.copy()\n",
        "    dico_fr['29'] = '.'\n",
        "    dico_fr['1'] = '-'\n",
        "    dico_fr['28'] = '+'\n",
        "    dico_fr_inv = {v: k for k, v in dico_fr.items()}\n",
        "    \n",
        "    return benf2, dico_fr, dico_fr_inv\n",
        "\n",
        "matrix_eng, dico_eng, dico_eng_inv = modifie_mat_dic_2(beng, dico)\n",
        "matrix_fr, dico_fr, dico_fr_inv = modifie_mat_dic_2(benf, dico)"
      ],
      "metadata": {
        "id": "dj3TZxQaIZZC"
      },
      "execution_count": null,
      "outputs": []
    },
    {
      "cell_type": "code",
      "source": [
        "#Calcule la vraisemblance d'une phrase pour un modèle de langage donné.\n",
        "def calc_vraisemblance (matrice_transition, dico_inv, phrase) :\n",
        "  \"\"\"\n",
        "  Args:\n",
        "  - phrase : str, phrase à évaluer\n",
        "  - transition_matrix : np.ndarray, matrice de transition pour le modèle de langage\n",
        "\n",
        "  Returns:\n",
        "  - float, vraisemblance de la phrase pour le modèle de langage\n",
        "  \"\"\"\n",
        "  phrase_modifiee = []\n",
        "  for mot in phrase.split() :\n",
        "\n",
        "    # Ajout des états initiaux et finaux\n",
        "    phrase_modifiee += ['-{}+'.format(mot)]\n",
        "\n",
        "  # Calcul de la vraisemblance\n",
        "  phrase_modifiee[-1] += '.'\n",
        "  mots = ''.join([m for m in phrase_modifiee])\n",
        "  seq = [int(dico_inv[carac]) - 1 for carac in mots] # Getting indexes from vocabulary\n",
        "\n",
        "  vraisemblance = 1\n",
        "  for i in range(len(seq) - 1):\n",
        "      transition = (seq[i], seq[i+1])\n",
        "      vraisemblance *= matrice_transition[transition]\n",
        "\n",
        "  return vraisemblance"
      ],
      "metadata": {
        "id": "kAOzTrK6FWPm"
      },
      "execution_count": null,
      "outputs": []
    },
    {
      "cell_type": "markdown",
      "source": [
        "### **Vraisemblance de la phrase \"to be or not to be\" pour le modèle français et anglais**\n"
      ],
      "metadata": {
        "id": "AD8xTGYuHCXQ"
      }
    },
    {
      "cell_type": "code",
      "source": [
        "phrase_eng = \"to be or not to be\"\n",
        "vraisemblance_eng = calc_vraisemblance(matrix_eng, dico_eng_inv, phrase_eng)\n",
        "print(\"Vraisemblance (anglais) :\", vraisemblance_eng)\n",
        "\n",
        "vraisemblance_fr = calc_vraisemblance(matrix_fr, dico_fr_inv , phrase_eng)\n",
        "print(\"Vraisemblance (français) :\", vraisemblance_fr)\n",
        "\n",
        "#******************************************\n"
      ],
      "metadata": {
        "colab": {
          "base_uri": "https://localhost:8080/"
        },
        "id": "yEfdIHkAHBWl",
        "outputId": "c9e7fe8b-c39f-4e61-ce82-ad2e11bd1bc8"
      },
      "execution_count": null,
      "outputs": [
        {
          "output_type": "stream",
          "name": "stdout",
          "text": [
            "Vraisemblance (anglais) : 8.112892227809415e-20\n",
            "Vraisemblance (français) : 5.9602081018686406e-30\n"
          ]
        }
      ]
    },
    {
      "cell_type": "markdown",
      "source": [
        "### **Vraisemblance de la phrase \"etre ou ne pas etre\" pour le modèle français et anglais**"
      ],
      "metadata": {
        "id": "t9PlS6maNCxM"
      }
    },
    {
      "cell_type": "code",
      "source": [
        "phrase_fr = \"etre ou ne pas etre\"\n",
        "vraisemblance_eng = calc_vraisemblance(matrix_eng, dico_eng_inv, phrase_fr)\n",
        "print(\"Vraisemblance (anglais) :\", vraisemblance_eng)\n",
        "\n",
        "vraisemblance_fr = calc_vraisemblance(matrix_fr, dico_fr_inv , phrase_fr)\n",
        "print(\"Vraisemblance (français) :\", vraisemblance_fr)"
      ],
      "metadata": {
        "colab": {
          "base_uri": "https://localhost:8080/"
        },
        "id": "2rEotfMGHBbT",
        "outputId": "018f8f03-c34b-40bd-bbe6-7b0ded19b4bb"
      },
      "execution_count": null,
      "outputs": [
        {
          "output_type": "stream",
          "name": "stdout",
          "text": [
            "Vraisemblance (anglais) : 4.462288711775253e-24\n",
            "Vraisemblance (français) : 1.145706887234789e-19\n"
          ]
        }
      ]
    },
    {
      "cell_type": "markdown",
      "source": [
        "# **II. 1. Introduction**\n",
        "\n",
        "L’objectif de cette partie est de générer des séquences d’observations suivant un modèle de Markov Caché donné, puis de calculer la vraisemblance d’une séquence d’observations suivant un modèle de Markov Caché donné.\n",
        "\n",
        "Le modèle de Markov est de type discret. Les classes de caractères (classes 0, 1, 7) sont modélisées chacune par un modèle à Q=5 états de type gauche-droite.\n",
        "\n",
        "Les états 1 et 5 correspondent à des colonnes de pixels de type fond de l’image (niveau 0). Les états 2, 3 et 4 correspondent au début, milieu et fin du caractère respectivement. \n",
        "\n",
        "Les transitions entre états sont indiquées dans la matrice de transitions A de taille QxQ. Les vecteurs p sont tous égaux à p=(1 0 0 0 0). \n",
        "\n",
        "Les séquences d’états commencent donc toujours par l’état q1=1.\n",
        "\n",
        "Les séquences d’observations sont discrètes et issues d’images de chiffres de la base MNIST.\n",
        "\n",
        "Les séquences d’observations consistent en séquences d’index (symboles) des éléments du dictionnaire. Ce dictionnaire est stocké sous forme matricielle (matrice v) dans le fichier matrice_symboles. \n",
        "\n",
        "L’élément numéro i d’une séquence d’observations correspond au\n",
        "symbole i et donc à la colonne i de la matrice v. Un symbole correspond à une configuration de colonne de 5 pixels (binaires : noir/blanc). Il y a 2^5\n",
        "=32 configurations, et donc symboles possibles.\n",
        "\n",
        "Une séquence d’observations correspondant à l’image simplifiée de la fig. 1 est : [1 1 1 1 1 1 14 23 23 27 18 18 18 12 12 12 12 12 12 12 23 23 23 14 4 1 1 1]\n",
        "\n",
        "La concaténation des éléments du dictionnaire correspondant aux index de la séquence d’observations peut être visualisée sous forme d’image en remplaçant chaque index par le vecteur de pixels correspondant dans le dictionnaire (Fig. 2).\n",
        "\n",
        "Les probabilités des observations dans chaque état sont indiquées dans la matrice B (32\n",
        "lignes, 5 colonnes). "
      ],
      "metadata": {
        "id": "S5yd7BfRQdi1"
      }
    },
    {
      "cell_type": "markdown",
      "source": [
        "## **II. 2. Génération de séquences d’observations**\n",
        "\n",
        "Les matrices A0.txt, B0.txt, vect_p0.txt contiennent les matrices A, B, et le vecteur p correspondant au modèle de Markov caché du chiffre 0. \n",
        "\n",
        "Le fichier matrice_symboles.txt contient le dictionnaire. Charger ces fichiers depuis le site pédagogique.\n",
        "\n",
        "Le dictionnaire de symboles se trouve dans la matrice v qui se charge en utilisant :\n",
        "\n",
        "import numpy as np\n",
        "\n",
        "filename=’matrice_symboles.txt’\n",
        "\n",
        "v=np.loadtxt(filename) "
      ],
      "metadata": {
        "id": "48y5SB7QRKej"
      }
    },
    {
      "cell_type": "code",
      "source": [
        "# Chargement des matrices A, B et vect_p correspondant au modèle de Markov caché du chiffre 0\n",
        "\n",
        "REP_PATH = './data_txt_compact/'\n",
        "\n",
        "A = np.loadtxt(ROOT_PATH + REP_PATH +'A0.txt')\n",
        "B = np.loadtxt(ROOT_PATH + REP_PATH + 'B0.txt')\n",
        "pi = np.loadtxt(ROOT_PATH + REP_PATH + 'vect_pi0.txt')"
      ],
      "metadata": {
        "id": "NuZpbZ-2HABs"
      },
      "execution_count": null,
      "outputs": []
    },
    {
      "cell_type": "code",
      "source": [
        "# Chargement du dictionnaire de symboles\n",
        "\n",
        "filename = 'matrice_symboles.txt'\n",
        "v = np.loadtxt(ROOT_PATH + REP_PATH + filename)"
      ],
      "metadata": {
        "id": "f-esWeeySU1m"
      },
      "execution_count": null,
      "outputs": []
    },
    {
      "cell_type": "markdown",
      "source": [
        "### **II. 2.1 A quoi correspondent les zéros de la matrice B ? et ceux de la matrice A et du vecteur p ?**"
      ],
      "metadata": {
        "id": "cS0dRe3-S8Yv"
      }
    },
    {
      "cell_type": "markdown",
      "source": [
        "#### **Réponses** :\n",
        "\n",
        "- Dans la matrice A et le vecteur p, les zéros correspondent à des probabilités nulles de transition d'un état à un autre. Autrement dit, ces transitions ne peuvent jamais se produire dans le modèle de Markov caché.\n",
        "\n",
        "- Dans la matrice B, les zéros correspondent à des probabilités nulles d'observer un certain symbole dans un certain état. Autrement dit, ces symboles ne peuvent jamais être observés dans ces états.\n"
      ],
      "metadata": {
        "id": "P5pdligYTTK7"
      }
    },
    {
      "cell_type": "markdown",
      "source": [
        "### **II.2.2 Ecrire une fonction etat_suivant qui génère un état qt+1(à t+1) à partir de l’état courant qt (à t) à l’aide de la matrice de transitions et de la fonction de répartition cumsum.**\n",
        "\n",
        "**Afficher la fonction de répartition pour une ligne de la matrice de transition et expliquer son rôle pour la génération de l’état à t+1.**"
      ],
      "metadata": {
        "id": "azG3LuWoTgzk"
      }
    },
    {
      "cell_type": "code",
      "source": [
        "# Fonction etat_suivant\n",
        "def etat_suivant(current_state, transition_matrix):\n",
        "    \"\"\"Génère l'état suivant à partir de l'état courant et de la matrice de transitions\"\"\"\n",
        "    cum_probs = np.cumsum(transition_matrix[current_state-1])\n",
        "    rand_num = np.random.random()\n",
        "    etat_suivant = np.argmax(cum_probs >= rand_num) + 1  # find first index of cumulative probability >= random number\n",
        "    return etat_suivant\n"
      ],
      "metadata": {
        "id": "yjAMmihjSZQs"
      },
      "execution_count": null,
      "outputs": []
    },
    {
      "cell_type": "code",
      "source": [
        "# Afficher sur un graphique la fonction de répartition pour une ligne de la matrice de transition\n",
        "def repartition (row, beng):\n",
        "  '''Afficher sur un graphique la fonction de répartition pour une ligne de la matrice de transition'''\n",
        "   # exemple : transition depuis l'état correspondant à 'a'\n",
        "  cum_probs = np.cumsum(beng[row-1,:])\n",
        "  etats = range(len(beng[row-1,:]))\n",
        "  plt.step(etats, cum_probs)\n",
        "\n",
        "  plt.title(f\"Fonction de répartition pour la transition depuis {dico[str(row+1)]}\")\n",
        "  plt.xlabel(\"État suivant\")\n",
        "  plt.ylabel(\"Probabilité cumulée\")\n",
        "  plt.show()\n",
        "\n",
        "row= 2\n",
        "repartition (row, A)"
      ],
      "metadata": {
        "colab": {
          "base_uri": "https://localhost:8080/",
          "height": 295
        },
        "id": "5lep2A-IZ6Zc",
        "outputId": "78162fb7-135f-4d39-bb97-65a05d133eba"
      },
      "execution_count": null,
      "outputs": [
        {
          "output_type": "display_data",
          "data": {
            "text/plain": [
              "<Figure size 432x288 with 1 Axes>"
            ],
            "image/png": "[encoded data removed]"
          },
          "metadata": {
            "needs_background": "light"
          }
        }
      ]
    },
    {
      "cell_type": "markdown",
      "source": [
        "### **II.2.3 Générer une séquence d’observations suivant le modèle de Markov Caché du chiffre 0.**\n",
        "\n",
        "**On commencera par générer une séquence d’états suivant ce modèle à l’aide de la fonction etat_suivant. Puis on générera la séquence d’observations par le même procédé.** "
      ],
      "metadata": {
        "id": "aqbZrkkRW6U-"
      }
    },
    {
      "cell_type": "markdown",
      "source": [
        "### **Notes :**\n",
        "\n",
        "The code below defines three functions to generate sequences of states and observations based on given state transition probabilities and observation probabilities in a Hidden Markov Model:\n",
        "\n",
        "- **generer_etats(transitions)**: Generates a sequence of states based on the given state transition probabilities transitions. The function starts from state 1, appends the current state to the sequence, and iterates through states until reaching the final state.\n",
        "\n",
        "- **generer_obs(seq_etats, transitions):** Generates an observation based on the current state and the observation probabilities transitions. This function takes a sequence of states seq_etats and the observation probability matrix transitions, then calculates the cumulative probabilities for observing each symbol given the current state. It generates a random number and finds the index of the first cumulative probability that is greater or equal to the random number, which corresponds to the generated observation.\n",
        "\n",
        "- **generer_seq(A, B, p):** Generates a sequence of states and observations based on the state transition probability matrix A, the observation probability matrix B, and the initial state probabilities p. The function starts by choosing an initial state according to the probabilities in p, generates an observation for that state, and iterates until reaching the final state. The generated sequences of states and observations are returned."
      ],
      "metadata": {
        "id": "jCHKiDkko8V3"
      }
    },
    {
      "cell_type": "code",
      "source": [
        "# Générer une sequence d'etats\n",
        "def generer_etats(transitions):\n",
        "    etat_courant = 1\n",
        "    seq_etats = [1]\n",
        "    while etat_courant != len(transitions): # tant qu'on n'a pas atteint l'état final\n",
        "        etat_courant = etat_suivant(etat_courant, transitions)\n",
        "        seq_etats.append(etat_courant)\n",
        "    return seq_etats\n",
        "\n",
        "\n",
        "# Générer une observation\n",
        "def generer_obs(seq_etats, transitions):\n",
        "    symboles = transitions[:, seq_etats-1]  \n",
        "    cum_probs = np.cumsum(symboles)  \n",
        "    rand_num = np.random.random()  \n",
        "    ob = np.argmax(cum_probs >= rand_num) + 1  # find first index of cumulative probability >= random number\n",
        "    return ob\n",
        "\n",
        "# Générer une sequence d'observations et d'états\n",
        "def generer_seq(A, B, p):\n",
        "    seq_etats = []\n",
        "    seq_obs = []\n",
        "    etat_courant = np.random.choice(range(1, A.shape[0]+1), p=p)\n",
        "    seq_etats = [etat_courant]\n",
        "    obs_courante = generer_obs(etat_courant, B)\n",
        "    seq_obs.append(obs_courante)  \n",
        "    while etat_courant != len(A): # tant qu'on n'a pas atteint l'état final\n",
        "        etat_courant = etat_suivant(etat_courant, A)\n",
        "        seq_etats.append(etat_courant)\n",
        "        obs_courante = generer_obs(etat_courant, B)\n",
        "        seq_obs.append(obs_courante)   \n",
        "    return seq_etats, seq_obs\n"
      ],
      "metadata": {
        "id": "W7NTm1IsbUNd"
      },
      "execution_count": null,
      "outputs": []
    },
    {
      "cell_type": "code",
      "source": [
        "seq_etats, seq_obs = generer_seq(A, B,pi)\n",
        "print(seq_etats)\n",
        "print(seq_obs)"
      ],
      "metadata": {
        "colab": {
          "base_uri": "https://localhost:8080/"
        },
        "id": "5GGn6pFdbUTu",
        "outputId": "fb0ab47c-e93d-4f66-e4b3-7d8205b93243"
      },
      "execution_count": null,
      "outputs": [
        {
          "output_type": "stream",
          "name": "stdout",
          "text": [
            "[1, 1, 1, 1, 1, 1, 1, 1, 1, 1, 1, 1, 1, 1, 1, 1, 2, 2, 2, 2, 2, 2, 2, 2, 2, 2, 3, 3, 3, 3, 3, 3, 3, 3, 4, 4, 4, 4, 5]\n",
            "[1, 1, 1, 1, 1, 1, 1, 1, 1, 1, 1, 1, 1, 1, 1, 1, 23, 14, 23, 23, 23, 30, 30, 14, 14, 23, 18, 18, 27, 27, 18, 12, 18, 12, 23, 11, 27, 23, 1]\n"
          ]
        }
      ]
    },
    {
      "cell_type": "markdown",
      "source": [
        "### **II.2.4 Visualiser le résultat sous forme d’image. Générer des séquences pour le chiffre 7 et le chiffre 1 (matrices B1.txt, B7.txt, etc…)**\n",
        "\n",
        "import matplotlib.pyplot as plt\n",
        "\n",
        "im=[ ]\n",
        "\n",
        "Les x contiennent les index dans le dictionnaire\n",
        "\n",
        "for t in range (0,len(stateSeq)) :\n",
        "\n",
        "  im_col=v[:, x[t]-1]\n",
        "\n",
        "  im.append(im_col)\n",
        "  \n",
        "im = np.array(im).T # now make an array\n",
        "\n",
        "plt.imshow(im*255, cmap=’Greys’, interpolation=’none’, aspect=’auto’)"
      ],
      "metadata": {
        "id": "X4OI9vKgYxa0"
      }
    },
    {
      "cell_type": "markdown",
      "source": [
        "#### **Notes :**\n",
        "\n",
        "- To generate a sequence of observations following the Hidden Markov Model for digit 0, we can use the following steps:\n",
        "\n",
        "  - Initialize the model parameters (A, B, pi) for digit 0.\n",
        "\n",
        "  - Sample the first state from the initial distribution pi.\n",
        "\n",
        "  - For each time step:\n",
        "    - a. Sample the next state based on the transition probabilities in matrix A.\n",
        "    - b. Sample the observation based on the emission probabilities in matrix B for the current state.\n",
        "\n",
        "  - Repeat step 3 for the desired length of the sequence.\n",
        "\n",
        "- To visualize the generated sequence as an image, we can map the sequence of symbols to their corresponding pixel values in the dictionary matrix v, and concatenate these values to form a matrix representing the image. \n",
        "\n",
        "- We can then use the imshow function from the matplotlib.pyplot module to display the image."
      ],
      "metadata": {
        "id": "hye10gMOdJaL"
      }
    },
    {
      "cell_type": "code",
      "source": [
        "# Afficher la séquence d'observations sous forme d'image\n",
        "\n",
        "# Load the test sequences\n",
        "A_file_names = ['A0.txt', 'A1.txt', 'A7.txt']\n",
        "B_file_names = ['B0.txt', 'B1.txt', 'B7.txt']\n",
        "pi_file_names = ['vect_pi0.txt', 'vect_pi1.txt', 'vect_pi7.txt']\n",
        "\n",
        "for t in range(len(A_file_names)) :\n",
        "\n",
        "  A = np.loadtxt(ROOT_PATH + REP_PATH + A_file_names[t])\n",
        "  B = np.loadtxt(ROOT_PATH + REP_PATH + B_file_names[t])\n",
        "  pi = np.loadtxt(ROOT_PATH + REP_PATH + pi_file_names[t])\n",
        "\n",
        "  seq_etats, seq_obs = generer_seq(A, B,pi)\n",
        "\n",
        "  im =[]\n",
        "  for t in range (0,len(seq_etats)) :\n",
        "    im_col = v[:, seq_obs[t]-1]\n",
        "    im.append(im_col)\n",
        "\n",
        "  im = np.array(im).T # now make an array\n",
        "\n",
        "  plt.imshow(im*255, cmap='Greys', interpolation='none', aspect='auto')\n",
        "  plt.show()"
      ],
      "metadata": {
        "colab": {
          "base_uri": "https://localhost:8080/",
          "height": 761
        },
        "id": "s7J7udXIevQO",
        "outputId": "174bae88-bb27-4727-9190-5aea4a53eb38"
      },
      "execution_count": null,
      "outputs": [
        {
          "output_type": "display_data",
          "data": {
            "text/plain": [
              "<Figure size 432x288 with 1 Axes>"
            ],
            "image/png": "[encoded data removed]"
          },
          "metadata": {
            "needs_background": "light"
          }
        },
        {
          "output_type": "display_data",
          "data": {
            "text/plain": [
              "<Figure size 432x288 with 1 Axes>"
            ],
            "image/png": "[encoded data removed]"
          },
          "metadata": {
            "needs_background": "light"
          }
        },
        {
          "output_type": "display_data",
          "data": {
            "text/plain": [
              "<Figure size 432x288 with 1 Axes>"
            ],
            "image/png": "[encoded data removed]"
          },
          "metadata": {
            "needs_background": "light"
          }
        }
      ]
    },
    {
      "cell_type": "markdown",
      "source": [
        "## **II.3. Calcul de la vraisemblance de séquences d’observations**\n",
        "\n",
        "Les fichiers SeqTest0.txt, SeqTest1.txt, SeqTest7.txt contiennent chacun 10 séquences d’observations de chiffres des 3 classes 0, 1 et 7, disposés en ligne. Le script suivant extrait la 5ème observation de la 3ème séquence des chiffres 0.\n",
        "\n",
        "filename=’SeqTest0.txt’. \n",
        "\n",
        "TestChiffres=np.loadtxt(filename)\n",
        "\n",
        "nex=2\n",
        "\n",
        "seq= TestChiffres[nex, : ]\n",
        "\n",
        "seq[4]"
      ],
      "metadata": {
        "id": "1Txq-1Nwii54"
      }
    },
    {
      "cell_type": "markdown",
      "source": [
        "### **II.3.1 Calculer la vraisemblance de ces séquences suivant chacun des modèles (0, 1 et 7) par l’algorithme de Viterbi (on pourra implémenter la version logarithmique de cet algorithme).**\n",
        "\n",
        "**Pour cela les matrices A, B et p seront converties en logarithmes (utiliser np.log).**"
      ],
      "metadata": {
        "id": "NpLKVCjrirUf"
      }
    },
    {
      "cell_type": "code",
      "source": [
        "# Define the Viterbi algorithm function\n",
        "def viterbi(obs, states, start_p, trans_p, emit_p):\n",
        "    \"\"\"\n",
        "    Return the most probable state sequence corresponding to the given observations, \n",
        "    using the Viterbi algorithm for a Hidden Markov Model.\n",
        "\n",
        "    obs: a sequence of observations\n",
        "    states: a sequence of possible states\n",
        "    start_p: a dictionary of starting probabilities for each state\n",
        "    trans_p: a transition probability matrix between states\n",
        "    emit_p: a emission probability matrix of each state for each observation\n",
        "    \"\"\"\n",
        "    V = [{}]\n",
        "    path = {}\n",
        "    start_p = np.log(start_p + 1e-10)\n",
        "    # Initialize base cases (t=0)\n",
        "    for state in states:\n",
        "        V[0][state] = emit_p[obs[0]][state] * start_p[state] #np.log(emit_p[obs[0]][state] + 1e-10) + start_p[state] #   \n",
        "        path[state] = [state]\n",
        "\n",
        "    # Run Viterbi for t > 0\n",
        "    for t in range(1, len(obs)):\n",
        "        V.append({})\n",
        "        new_path = {}\n",
        "\n",
        "        for state in states:\n",
        "            # Find the maximum probability and the corresponding state from the previous timestep\n",
        "            (prob, prev_state) = max((V[t-1][prev_state] + np.log(trans_p[prev_state][state] + 1e-10)  + np.log(emit_p[obs[t]][state] + 1e-10), prev_state) for prev_state in states)\n",
        "\n",
        "            # Update the probability and path information for this state\n",
        "            V[t][state] = prob\n",
        "            new_path[state] = path[prev_state] + [state]\n",
        "\n",
        "        # Update the path with the new path information\n",
        "        path = new_path\n",
        "\n",
        "    # Find the final state with the highest probability\n",
        "    (prob, state) = max((V[len(obs)-1][state], state) for state in states)\n",
        "    prob = np.exp(prob)\n",
        "\n",
        "    # Backtrack to find the most probable state sequence\n",
        "    state_seq = [state]\n",
        "    for t in range(len(obs)-1, 0, -1):\n",
        "        state = path[state][t]\n",
        "        state_seq.insert(0, state)\n",
        "    # Return the most likely state sequence and its probability\n",
        "    return pd.DataFrame.from_dict(V),state_seq, prob\n"
      ],
      "metadata": {
        "id": "Db2YcLUOixrD"
      },
      "execution_count": null,
      "outputs": []
    },
    {
      "cell_type": "code",
      "source": [
        "import numpy as np\n",
        "\n",
        "seq_file_names = ['SeqTest0.txt', 'SeqTest1.txt', 'SeqTest7.txt' ]\n",
        "\n",
        "def compute_likehoods(seq_file_names): \n",
        "  inds =[0, 1, 7]\n",
        "  # Load the test sequences\n",
        "  \n",
        "  A_file_names = ['A0.txt', 'A1.txt', 'A7.txt']\n",
        "  B_file_names = ['B0.txt', 'B1.txt', 'B7.txt']\n",
        "  pi_file_names = ['vect_pi0.txt', 'vect_pi1.txt', 'vect_pi7.txt']\n",
        "\n",
        "  for k in range(len(seq_file_names)) :\n",
        "    liste_likehoods = [] \n",
        "    A = np.loadtxt(ROOT_PATH + REP_PATH + A_file_names[k])\n",
        "    B = np.loadtxt(ROOT_PATH + REP_PATH + B_file_names[k])\n",
        "    pi = np.loadtxt(ROOT_PATH + REP_PATH + pi_file_names[k])\n",
        "    \n",
        "    test_sequence = np.loadtxt(ROOT_PATH + REP_PATH + seq_file_names[k]) \n",
        "\n",
        "    # Loop over each test sequence and compute its likelihood under each model\n",
        "    test_sequence = test_sequence.astype('int')\n",
        "    for j in range(10):\n",
        "      sequence = [i-1 for i in test_sequence[j] ]\n",
        "      # Compute the likelihood of the test sequence under the model for digit 0\n",
        "      _, _, likehood = viterbi(sequence, range(len(A)), pi, A, B)\n",
        "      print(f\"Likelihood for the sequence {j} for Number {inds[k]} is : {likehood} \") \n",
        "      liste_likehoods.append(likehood)\n",
        "\n",
        "  return liste_likehoods\n",
        "\n",
        "liste_likehoods = compute_likehoods(seq_file_names)"
      ],
      "metadata": {
        "colab": {
          "base_uri": "https://localhost:8080/"
        },
        "id": "XGovVV8okZi3",
        "outputId": "45d9ebd4-a9e5-4539-dba2-2cf4001ca457"
      },
      "execution_count": null,
      "outputs": [
        {
          "output_type": "stream",
          "name": "stdout",
          "text": [
            "Likelihood for the sequence 0 for Number 0 is : 2.065101785953775e-13 \n",
            "Likelihood for the sequence 1 for Number 0 is : 6.400822197857806e-15 \n",
            "Likelihood for the sequence 2 for Number 0 is : 2.1069610013896684e-17 \n",
            "Likelihood for the sequence 3 for Number 0 is : 1.072206456057848e-14 \n",
            "Likelihood for the sequence 4 for Number 0 is : 8.246300263168562e-22 \n",
            "Likelihood for the sequence 5 for Number 0 is : 1.0488454001730436e-14 \n",
            "Likelihood for the sequence 6 for Number 0 is : 4.776077763747278e-16 \n",
            "Likelihood for the sequence 7 for Number 0 is : 7.81089759030815e-12 \n",
            "Likelihood for the sequence 8 for Number 0 is : 3.9171297234277925e-19 \n",
            "Likelihood for the sequence 9 for Number 0 is : 3.2864651945134956e-10 \n",
            "Likelihood for the sequence 0 for Number 1 is : 6.92936596005936e-24 \n",
            "Likelihood for the sequence 1 for Number 1 is : 1.873120764080189e-06 \n",
            "Likelihood for the sequence 2 for Number 1 is : 7.324306886630195e-11 \n",
            "Likelihood for the sequence 3 for Number 1 is : 1.2417485878053357e-06 \n",
            "Likelihood for the sequence 4 for Number 1 is : 1.1016971448956408e-06 \n",
            "Likelihood for the sequence 5 for Number 1 is : 6.544349084112869e-20 \n",
            "Likelihood for the sequence 6 for Number 1 is : 1.623267311294337e-13 \n",
            "Likelihood for the sequence 7 for Number 1 is : 1.225717909714003e-14 \n",
            "Likelihood for the sequence 8 for Number 1 is : 6.139591259186008e-09 \n",
            "Likelihood for the sequence 9 for Number 1 is : 1.9747968529670627e-05 \n",
            "Likelihood for the sequence 0 for Number 7 is : 7.243928080106522e-15 \n",
            "Likelihood for the sequence 1 for Number 7 is : 2.26670753637591e-14 \n",
            "Likelihood for the sequence 2 for Number 7 is : 1.1021434746011073e-21 \n",
            "Likelihood for the sequence 3 for Number 7 is : 3.290630405216438e-19 \n",
            "Likelihood for the sequence 4 for Number 7 is : 3.501413096532772e-11 \n",
            "Likelihood for the sequence 5 for Number 7 is : 1.5925184550338493e-13 \n",
            "Likelihood for the sequence 6 for Number 7 is : 9.022997228419709e-10 \n",
            "Likelihood for the sequence 7 for Number 7 is : 4.472828992963611e-21 \n",
            "Likelihood for the sequence 8 for Number 7 is : 2.0183034247723338e-14 \n",
            "Likelihood for the sequence 9 for Number 7 is : 8.03449080895202e-12 \n"
          ]
        }
      ]
    },
    {
      "cell_type": "markdown",
      "source": [
        "### **II.3.2 Donner le résultat de la classification des images de test en considérant un problème à trois classes : 0, 1 et 7.**"
      ],
      "metadata": {
        "id": "RsZ6SLw4Q9L3"
      }
    },
    {
      "cell_type": "markdown",
      "source": [
        "### **Notes :**\n",
        "\n",
        "The make_classification function takes a list of test sequence file names as input and returns a Pandas DataFrame containing the likelihoods of each test sequence under the models for digits 0, 1, and 7.\n",
        "\n",
        "Here is a step-by-step explanation of what the function does:\n",
        "\n",
        "- Initialize the result DataFrame with columns \"Modèle0\", \"Modèle1\", and \"Modèle7\".\n",
        "- Load the test sequences from the given file names and store them in the test_sequences list.\n",
        "- Load the model parameters for digits 0, 1, and 7: state transition matrices (A0, A1, A7), observation matrices (B0, B1, B7), and initial state probability vectors (pi0, pi1, pi7).\n",
        "- Iterate through each test sequence in the test_sequences list.\n",
        "- For each test sequence : \n",
        "  - loop through its first 10 instances, \n",
        "  - convert the sequence to integer, and \n",
        "  - subtract 1 to account for 0-based indexing in Python.\n",
        "  - Calculate the likelihoods of the test sequence under the models for digits 0, 1, and 7 using the viterbi function.\n",
        "  - Append the likelihoods to the liste_likehoods list and \n",
        "  - add the list to the result DataFrame.\n",
        "- Convert the result DataFrame to a NumPy array and return it.\n",
        "\n",
        "To use the make_classification function, you need to provide a list of test sequence file names. \n",
        "\n",
        "Assuming that you have the test sequence files \"SeqTest0.txt\", \"SeqTest1.txt\", and \"SeqTest7.txt\" in the REP_PATH directory, you can call the function as follows:"
      ],
      "metadata": {
        "id": "33vg5V6MAf-J"
      }
    },
    {
      "cell_type": "code",
      "source": [
        "def make_classification(seq_file_names): \n",
        "  inds =[0, 1, 7]\n",
        "\n",
        "  # Load the test sequences\n",
        "  result = pd.DataFrame(columns = [\"Modèle0\",\"Modèle1\", \"Modèle7\"])\n",
        "\n",
        "  test_sequences = []\n",
        "  for k in range(len (seq_file_names)) : \n",
        "    test_sequence = np.loadtxt(ROOT_PATH + REP_PATH + seq_file_names[k]) \n",
        "    test_sequences.append(test_sequence)\n",
        "\n",
        "\n",
        "  A0 = np.loadtxt(ROOT_PATH + REP_PATH + 'A0.txt')\n",
        "  A1 = np.loadtxt(ROOT_PATH + REP_PATH + 'A1.txt')\n",
        "  A7 = np.loadtxt(ROOT_PATH + REP_PATH + 'A7.txt')\n",
        "\n",
        "  B0 = np.loadtxt(ROOT_PATH + REP_PATH + 'B0.txt')\n",
        "  B1 = np.loadtxt(ROOT_PATH + REP_PATH + 'B1.txt')\n",
        "  B7 = np.loadtxt(ROOT_PATH + REP_PATH + 'B7.txt')\n",
        "\n",
        "  pi0 = np.loadtxt(ROOT_PATH + REP_PATH + 'vect_pi0.txt')\n",
        "  pi1 = np.loadtxt(ROOT_PATH + REP_PATH + 'vect_pi1.txt')\n",
        "  pi7 = np.loadtxt(ROOT_PATH + REP_PATH + 'vect_pi7.txt')\n",
        "\n",
        "  \n",
        "  for test_sequence in test_sequences : \n",
        "    # Loop over each test sequence and compute its likelihood under each model\n",
        "    test_sequence = test_sequence.astype('int')\n",
        "    for j in range(10):\n",
        "      liste_likehoods = [] \n",
        "\n",
        "      sequence = [i-1 for i in test_sequence[j] ]\n",
        "      # Compute the likelihood of the test sequence under the model for digit 0\n",
        "      _, _, likehood0 = viterbi(sequence, range(len(A0)), pi0, A0, B0)\n",
        "      _, _, likehood1 = viterbi(sequence, range(len(A0)), pi1, A1, B1)\n",
        "      _, _, likehood7 = viterbi(sequence, range(len(A0)), pi7, A7, B7)\n",
        "\n",
        "      liste_likehoods.append(likehood0)\n",
        "      liste_likehoods.append(likehood1)\n",
        "      liste_likehoods.append(likehood7)\n",
        "\n",
        "      result.loc[len(result)] = liste_likehoods\n",
        "\n",
        "  return result\n",
        "\n",
        "probas = make_classification(seq_file_names).to_numpy()"
      ],
      "metadata": {
        "id": "L64Ztrp1Q7TR"
      },
      "execution_count": null,
      "outputs": []
    },
    {
      "cell_type": "markdown",
      "source": [
        "### **Notes :**\n",
        "\n",
        "After assuming that the probas array are computed using the make_classification function, this code classifies the test sequences by choosing the model with the highest likelihood for each test sequence. The classification results are stored in a Pandas DataFrame named output.\n",
        "\n",
        "Here is a step-by-step explanation of the code:\n",
        "\n",
        "- Initialize an empty DataFrame called output with a single column named \"Predictions\".\n",
        "- Find the index of the maximum likelihood value in each row of the probas array using np.argmax(probas, axis=1). This returns a 1D NumPy array containing the indices of the models with the highest likelihoods for each test sequence.\n",
        "- Replace the index value 2 with 7 in the max_likelihood_index array, since the third model corresponds to digit 7.\n",
        "- Create a new DataFrame called output using the max_likelihood_index array and the column name \"Predictions\".\n",
        "- Display the output DataFrame, which contains the classification results for each test sequence."
      ],
      "metadata": {
        "id": "ASL8_-igBmUw"
      }
    },
    {
      "cell_type": "code",
      "source": [
        "output = pd.DataFrame(columns = [\"Predictions\"])\n",
        "\n",
        "# Classify the test sequence based on the model with the highest likelihood\n",
        "\n",
        "max_likelihood_index = np.argmax(probas, axis=1)\n",
        "max_likelihood_index = [7 if i == 2 else i for i in max_likelihood_index]\n",
        "output = pd.DataFrame(max_likelihood_index, columns = [\"Predictions\"])\n",
        "display(output)"
      ],
      "metadata": {
        "colab": {
          "base_uri": "https://localhost:8080/",
          "height": 990
        },
        "id": "mdeZJkYI71zo",
        "outputId": "f419df3c-ebad-4992-a483-2f2e12fbf18a"
      },
      "execution_count": null,
      "outputs": [
        {
          "output_type": "display_data",
          "data": {
            "text/plain": [
              "    Predictions\n",
              "0             0\n",
              "1             0\n",
              "2             0\n",
              "3             0\n",
              "4             0\n",
              "5             0\n",
              "6             0\n",
              "7             0\n",
              "8             0\n",
              "9             0\n",
              "10            1\n",
              "11            1\n",
              "12            1\n",
              "13            1\n",
              "14            1\n",
              "15            1\n",
              "16            1\n",
              "17            1\n",
              "18            1\n",
              "19            1\n",
              "20            7\n",
              "21            7\n",
              "22            1\n",
              "23            7\n",
              "24            7\n",
              "25            7\n",
              "26            7\n",
              "27            7\n",
              "28            7\n",
              "29            7"
            ],
            "text/html": [
              "\n",
              "  <div id=\"df-2175ce73-fd3f-497b-b7cb-ff1631e5aaa7\">\n",
              "    <div class=\"colab-df-container\">\n",
              "      <div>\n",
              "<style scoped>\n",
              "    .dataframe tbody tr th:only-of-type {\n",
              "        vertical-align: middle;\n",
              "    }\n",
              "\n",
              "    .dataframe tbody tr th {\n",
              "        vertical-align: top;\n",
              "    }\n",
              "\n",
              "    .dataframe thead th {\n",
              "        text-align: right;\n",
              "    }\n",
              "</style>\n",
              "<table border=\"1\" class=\"dataframe\">\n",
              "  <thead>\n",
              "    <tr style=\"text-align: right;\">\n",
              "      <th></th>\n",
              "      <th>Predictions</th>\n",
              "    </tr>\n",
              "  </thead>\n",
              "  <tbody>\n",
              "    <tr>\n",
              "      <th>0</th>\n",
              "      <td>0</td>\n",
              "    </tr>\n",
              "    <tr>\n",
              "      <th>1</th>\n",
              "      <td>0</td>\n",
              "    </tr>\n",
              "    <tr>\n",
              "      <th>2</th>\n",
              "      <td>0</td>\n",
              "    </tr>\n",
              "    <tr>\n",
              "      <th>3</th>\n",
              "      <td>0</td>\n",
              "    </tr>\n",
              "    <tr>\n",
              "      <th>4</th>\n",
              "      <td>0</td>\n",
              "    </tr>\n",
              "    <tr>\n",
              "      <th>5</th>\n",
              "      <td>0</td>\n",
              "    </tr>\n",
              "    <tr>\n",
              "      <th>6</th>\n",
              "      <td>0</td>\n",
              "    </tr>\n",
              "    <tr>\n",
              "      <th>7</th>\n",
              "      <td>0</td>\n",
              "    </tr>\n",
              "    <tr>\n",
              "      <th>8</th>\n",
              "      <td>0</td>\n",
              "    </tr>\n",
              "    <tr>\n",
              "      <th>9</th>\n",
              "      <td>0</td>\n",
              "    </tr>\n",
              "    <tr>\n",
              "      <th>10</th>\n",
              "      <td>1</td>\n",
              "    </tr>\n",
              "    <tr>\n",
              "      <th>11</th>\n",
              "      <td>1</td>\n",
              "    </tr>\n",
              "    <tr>\n",
              "      <th>12</th>\n",
              "      <td>1</td>\n",
              "    </tr>\n",
              "    <tr>\n",
              "      <th>13</th>\n",
              "      <td>1</td>\n",
              "    </tr>\n",
              "    <tr>\n",
              "      <th>14</th>\n",
              "      <td>1</td>\n",
              "    </tr>\n",
              "    <tr>\n",
              "      <th>15</th>\n",
              "      <td>1</td>\n",
              "    </tr>\n",
              "    <tr>\n",
              "      <th>16</th>\n",
              "      <td>1</td>\n",
              "    </tr>\n",
              "    <tr>\n",
              "      <th>17</th>\n",
              "      <td>1</td>\n",
              "    </tr>\n",
              "    <tr>\n",
              "      <th>18</th>\n",
              "      <td>1</td>\n",
              "    </tr>\n",
              "    <tr>\n",
              "      <th>19</th>\n",
              "      <td>1</td>\n",
              "    </tr>\n",
              "    <tr>\n",
              "      <th>20</th>\n",
              "      <td>7</td>\n",
              "    </tr>\n",
              "    <tr>\n",
              "      <th>21</th>\n",
              "      <td>7</td>\n",
              "    </tr>\n",
              "    <tr>\n",
              "      <th>22</th>\n",
              "      <td>1</td>\n",
              "    </tr>\n",
              "    <tr>\n",
              "      <th>23</th>\n",
              "      <td>7</td>\n",
              "    </tr>\n",
              "    <tr>\n",
              "      <th>24</th>\n",
              "      <td>7</td>\n",
              "    </tr>\n",
              "    <tr>\n",
              "      <th>25</th>\n",
              "      <td>7</td>\n",
              "    </tr>\n",
              "    <tr>\n",
              "      <th>26</th>\n",
              "      <td>7</td>\n",
              "    </tr>\n",
              "    <tr>\n",
              "      <th>27</th>\n",
              "      <td>7</td>\n",
              "    </tr>\n",
              "    <tr>\n",
              "      <th>28</th>\n",
              "      <td>7</td>\n",
              "    </tr>\n",
              "    <tr>\n",
              "      <th>29</th>\n",
              "      <td>7</td>\n",
              "    </tr>\n",
              "  </tbody>\n",
              "</table>\n",
              "</div>\n",
              "      <button class=\"colab-df-convert\" onclick=\"convertToInteractive('df-2175ce73-fd3f-497b-b7cb-ff1631e5aaa7')\"\n",
              "              title=\"Convert this dataframe to an interactive table.\"\n",
              "              style=\"display:none;\">\n",
              "        \n",
              "  <svg xmlns=\"http://www.w3.org/2000/svg\" height=\"24px\"viewBox=\"0 0 24 24\"\n",
              "       width=\"24px\">\n",
              "    <path d=\"M0 0h24v24H0V0z\" fill=\"none\"/>\n",
              "    <path d=\"M18.56 5.44l.94 2.06.94-2.06 2.06-.94-2.06-.94-.94-2.06-.94 2.06-2.06.94zm-11 1L8.5 8.5l.94-2.06 2.06-.94-2.06-.94L8.5 2.5l-.94 2.06-2.06.94zm10 10l.94 2.06.94-2.06 2.06-.94-2.06-.94-.94-2.06-.94 2.06-2.06.94z\"/><path d=\"M17.41 7.96l-1.37-1.37c-.4-.4-.92-.59-1.43-.59-.52 0-1.04.2-1.43.59L10.3 9.45l-7.72 7.72c-.78.78-.78 2.05 0 2.83L4 21.41c.39.39.9.59 1.41.59.51 0 1.02-.2 1.41-.59l7.78-7.78 2.81-2.81c.8-.78.8-2.07 0-2.86zM5.41 20L4 18.59l7.72-7.72 1.47 1.35L5.41 20z\"/>\n",
              "  </svg>\n",
              "      </button>\n",
              "      \n",
              "  <style>\n",
              "    .colab-df-container {\n",
              "      display:flex;\n",
              "      flex-wrap:wrap;\n",
              "      gap: 12px;\n",
              "    }\n",
              "\n",
              "    .colab-df-convert {\n",
              "      background-color: #E8F0FE;\n",
              "      border: none;\n",
              "      border-radius: 50%;\n",
              "      cursor: pointer;\n",
              "      display: none;\n",
              "      fill: #1967D2;\n",
              "      height: 32px;\n",
              "      padding: 0 0 0 0;\n",
              "      width: 32px;\n",
              "    }\n",
              "\n",
              "    .colab-df-convert:hover {\n",
              "      background-color: #E2EBFA;\n",
              "      box-shadow: 0px 1px 2px rgba(60, 64, 67, 0.3), 0px 1px 3px 1px rgba(60, 64, 67, 0.15);\n",
              "      fill: #174EA6;\n",
              "    }\n",
              "\n",
              "    [theme=dark] .colab-df-convert {\n",
              "      background-color: #3B4455;\n",
              "      fill: #D2E3FC;\n",
              "    }\n",
              "\n",
              "    [theme=dark] .colab-df-convert:hover {\n",
              "      background-color: #434B5C;\n",
              "      box-shadow: 0px 1px 3px 1px rgba(0, 0, 0, 0.15);\n",
              "      filter: drop-shadow(0px 1px 2px rgba(0, 0, 0, 0.3));\n",
              "      fill: #FFFFFF;\n",
              "    }\n",
              "  </style>\n",
              "\n",
              "      <script>\n",
              "        const buttonEl =\n",
              "          document.querySelector('#df-2175ce73-fd3f-497b-b7cb-ff1631e5aaa7 button.colab-df-convert');\n",
              "        buttonEl.style.display =\n",
              "          google.colab.kernel.accessAllowed ? 'block' : 'none';\n",
              "\n",
              "        async function convertToInteractive(key) {\n",
              "          const element = document.querySelector('#df-2175ce73-fd3f-497b-b7cb-ff1631e5aaa7');\n",
              "          const dataTable =\n",
              "            await google.colab.kernel.invokeFunction('convertToInteractive',\n",
              "                                                     [key], {});\n",
              "          if (!dataTable) return;\n",
              "\n",
              "          const docLinkHtml = 'Like what you see? Visit the ' +\n",
              "            '<a target=\"_blank\" href=https://colab.research.google.com/notebooks/data_table.ipynb>data table notebook</a>'\n",
              "            + ' to learn more about interactive tables.';\n",
              "          element.innerHTML = '';\n",
              "          dataTable['output_type'] = 'display_data';\n",
              "          await google.colab.output.renderOutput(dataTable, element);\n",
              "          const docLink = document.createElement('div');\n",
              "          docLink.innerHTML = docLinkHtml;\n",
              "          element.appendChild(docLink);\n",
              "        }\n",
              "      </script>\n",
              "    </div>\n",
              "  </div>\n",
              "  "
            ]
          },
          "metadata": {}
        }
      ]
    },
    {
      "cell_type": "markdown",
      "source": [
        "### **Results :**\n",
        "\n",
        "The table above, which is the output of the classification process, displays the predictions for each test sequence. The table shows the following classification results:\n",
        "\n",
        "- **Test sequences 0 to 9 are classified as digit 0.**\n",
        "- **Test sequences 10 to 19 are classified as digit 1.**\n",
        "- **Test sequences 20 to 29 are classified as digit 7, except for sequence 22, which is classified as digit 1.**\n",
        "\n",
        "The indices on the left side represent the test sequence number, and the \"Predictions\" column displays the digit that the test sequence was classified as (0, 1, or 7). The results suggest that **the classification process works well for most of the test sequences, with only one misclassification (test sequence 22).**"
      ],
      "metadata": {
        "id": "JDz6U6c7Artm"
      }
    }
  ]
}